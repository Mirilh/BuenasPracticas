{
  "nbformat": 4,
  "nbformat_minor": 0,
  "metadata": {
    "colab": {
      "provenance": [],
      "authorship_tag": "ABX9TyOjzqgTAGnGN+UuSKAnn0Kl",
      "include_colab_link": true
    },
    "kernelspec": {
      "name": "python3",
      "display_name": "Python 3"
    },
    "language_info": {
      "name": "python"
    }
  },
  "cells": [
    {
      "cell_type": "markdown",
      "metadata": {
        "id": "view-in-github",
        "colab_type": "text"
      },
      "source": [
        "<a href=\"https://colab.research.google.com/github/Mirilh/BuenasPracticas/blob/nueba_branch/13_MachineLearning_DeepL1_Miri_CO.ipynb\" target=\"_parent\"><img src=\"https://colab.research.google.com/assets/colab-badge.svg\" alt=\"Open In Colab\"/></a>"
      ]
    },
    {
      "cell_type": "markdown",
      "source": [
        "# ACTIVIDAD LECCIÓN 13: Deep Learning I."
      ],
      "metadata": {
        "id": "-pxqHm1xWUDO"
      }
    },
    {
      "cell_type": "markdown",
      "source": [
        "Alumno: Miriam López Hernández\n",
        "\n",
        "Fecha: 08/23"
      ],
      "metadata": {
        "id": "uBhrv-E6WZdn"
      }
    },
    {
      "cell_type": "markdown",
      "source": [
        "### Actividad relacionada con la lección 13:\n",
        "1. Instala adecuadamente las bibliotecas para Deep Learning TensorFlow y Keras. Si dispones de GPU, trata de realizar la instalación teniendo en cuenta ese aspecto. Comprueba mediante un script que la instalación ha sido completada de manera correcta.\n",
        "2. Carga el conjunto de datos MNIST que trae la propia biblioteca Keras. Se trata de un conjunto de datos en el que las instancias están etiquetadas.\n",
        "3. Diseña, implementa y prueba un modelo de Red Neuronal Profunda (DNN) que trate de resolver este problema de clasificación multiclase de imágenes."
      ],
      "metadata": {
        "id": "mfBSORk3WbL2"
      }
    },
    {
      "cell_type": "code",
      "execution_count": 2,
      "metadata": {
        "id": "dMkUmRjQUHYS"
      },
      "outputs": [],
      "source": [
        "# Importamos librerías a usar en este jupyter\n",
        "import pandas as pd\n",
        "import numpy as np\n",
        "import random, time\n",
        "import matplotlib.pyplot as plt\n",
        "import seaborn as sns\n",
        "from sklearn.preprocessing import StandardScaler\n",
        "from sklearn.model_selection import train_test_split\n",
        "from sklearn.metrics import balanced_accuracy_score, accuracy_score"
      ]
    },
    {
      "cell_type": "code",
      "source": [
        "import tensorflow as tf\n",
        "from tensorflow import keras\n",
        "from tensorflow.keras import layers"
      ],
      "metadata": {
        "id": "_6EexdZaULQ7"
      },
      "execution_count": 9,
      "outputs": []
    },
    {
      "cell_type": "code",
      "source": [
        "# 1. Version\n",
        "print(tf.__version__)\n",
        "print(keras.__version__)"
      ],
      "metadata": {
        "colab": {
          "base_uri": "https://localhost:8080/"
        },
        "id": "og7gy2nEULsI",
        "outputId": "32605335-b280-4dcd-c43b-3c16f495003a"
      },
      "execution_count": 7,
      "outputs": [
        {
          "output_type": "stream",
          "name": "stdout",
          "text": [
            "2.12.0\n",
            "2.12.0\n"
          ]
        }
      ]
    },
    {
      "cell_type": "code",
      "source": [
        "#  2. Carga el conjunto de datos MNIST que trae la propia biblioteca Keras.\n",
        "\n",
        "from tensorflow.keras.datasets import mnist\n",
        "\n",
        "(X_train, y_train), (X_test, y_test) = mnist.load_data()\n",
        "\n",
        "y_train\n"
      ],
      "metadata": {
        "colab": {
          "base_uri": "https://localhost:8080/"
        },
        "id": "uebY3MC7WQog",
        "outputId": "f2724bb8-f525-47c8-a281-4c604c0299ad"
      },
      "execution_count": 15,
      "outputs": [
        {
          "output_type": "execute_result",
          "data": {
            "text/plain": [
              "array([5, 0, 4, ..., 5, 6, 8], dtype=uint8)"
            ]
          },
          "metadata": {},
          "execution_count": 15
        }
      ]
    },
    {
      "cell_type": "code",
      "source": [
        "# Para saber cuantas neuronas de salida necesitamos tenemos que saber en cuantos grupos se esta clasificando las imagenes\n",
        "\n",
        "num = len(set(y_train))\n",
        "\n",
        "print(f\"Número de clases: {num}\")"
      ],
      "metadata": {
        "colab": {
          "base_uri": "https://localhost:8080/"
        },
        "id": "5-snEZh9WRW5",
        "outputId": "d47b2148-158a-4501-c3c7-4626a5f1294f"
      },
      "execution_count": 19,
      "outputs": [
        {
          "output_type": "stream",
          "name": "stdout",
          "text": [
            "Número de clases: 10\n"
          ]
        }
      ]
    },
    {
      "cell_type": "markdown",
      "source": [
        "* A la hora de estandarizar me daba un error porque las imagenes del conjunto de datos es una matriz tridimensional, y nuestro modelo espera una bidimensional, se pasa a de 2D a 1D."
      ],
      "metadata": {
        "id": "a8L-DUGYcIm6"
      }
    },
    {
      "cell_type": "code",
      "source": [
        "# Estandarizar los datos\n",
        "\n",
        "scaler = StandardScaler()\n",
        "\n",
        "# Primero redimensionamos la matriz 2D->1D\n",
        "X_train = X_train.reshape(X_train.shape[0], -1)\n",
        "X_test = X_test.reshape(X_test.shape[0], -1)\n",
        "\n",
        "X_train = scaler.fit_transform(X_train)\n",
        "X_test = scaler.transform(X_test)"
      ],
      "metadata": {
        "id": "H6yPLcGUWSC4"
      },
      "execution_count": 23,
      "outputs": []
    },
    {
      "cell_type": "markdown",
      "source": [
        "Estructura:\n",
        "\n",
        "- model = keras.Sequential([layers.Dense(Numero de neuronas, funcion de activacion, input_shape (solo en la 1 capa y se conecta directa con el nº de variables de entrada a la red:X_train.shape[1]\n",
        "\n",
        "- layer.Dense -> Donde cada neurona está conectada con la capa anterior y siguiente\n",
        "- layers.Dropout(0.3) -> Eliminamos algunas neuronas aleatoriamente para evitar el overfitting\n",
        "- layer.Dense -> podemos cambiar la funcion de activacion en cada capa oculta\n",
        "\n",
        "\n",
        "- model.compile (metodo por el que entrena pa mejorar la funcion de perdida que le decimos, y su optimizador - algorimo de propagacion\n",
        " y su metrica)\n",
        "\n",
        " En este caso hemos buscado cual sería una buena funcion de pérdida para este problema , y al se multiclase y de numeros enteros se usa 'Sparse Categorical Crossentropy' y como capa de salida: 'softmax'"
      ],
      "metadata": {
        "id": "MyZcVq3Jc9PC"
      }
    },
    {
      "cell_type": "code",
      "source": [
        "# Modelo DNN para clasificacion\n",
        "\n",
        "model = keras.Sequential([layers.Dense(100, activation = 'relu', input_shape = [X_train.shape[1]]),\n",
        "                          layers.Dropout(0.3),\n",
        "                          layers.Dense(100, activation = 'relu'),\n",
        "                          layers.Dropout(0.3),\n",
        "                          layers.Dense(100, activation = 'relu'),\n",
        "                          layers.Dense(10, activation = 'softmax')])\n",
        "\n",
        "model.compile(loss='sparse_categorical_crossentropy',\n",
        "              optimizer='adam',\n",
        "              metrics=['accuracy'])\n",
        "\n",
        "print(model.summary())\n",
        "\n",
        "# Predeterminamos las epocas en 100, pero reduciremos si vemos que se sobrentrena , tambien cambiamos alguna funcion para ver si funciona mejor.\n",
        "history = model.fit(X_train, y_train,\n",
        "                   epochs = 100 , validation_split = 0.2)\n",
        "\n",
        "# Creamos un DF en el que se almacena las metricas del entrenamiento y luego creamos una columna 'epoch' para ir sabiendo las epocas - iteraciones\n",
        "model_history = pd.DataFrame(history.history)\n",
        "model_history['epoch'] = history.epoch\n",
        "\n"
      ],
      "metadata": {
        "colab": {
          "base_uri": "https://localhost:8080/"
        },
        "id": "EqzQYyYYc8hd",
        "outputId": "99ac8568-6827-42a9-d7d4-71c9ca02d46b"
      },
      "execution_count": 37,
      "outputs": [
        {
          "output_type": "stream",
          "name": "stdout",
          "text": [
            "Model: \"sequential_8\"\n",
            "_________________________________________________________________\n",
            " Layer (type)                Output Shape              Param #   \n",
            "=================================================================\n",
            " dense_32 (Dense)            (None, 100)               78500     \n",
            "                                                                 \n",
            " dropout_16 (Dropout)        (None, 100)               0         \n",
            "                                                                 \n",
            " dense_33 (Dense)            (None, 100)               10100     \n",
            "                                                                 \n",
            " dropout_17 (Dropout)        (None, 100)               0         \n",
            "                                                                 \n",
            " dense_34 (Dense)            (None, 100)               10100     \n",
            "                                                                 \n",
            " dense_35 (Dense)            (None, 10)                1010      \n",
            "                                                                 \n",
            "=================================================================\n",
            "Total params: 99,710\n",
            "Trainable params: 99,710\n",
            "Non-trainable params: 0\n",
            "_________________________________________________________________\n",
            "None\n",
            "Epoch 1/100\n",
            "1500/1500 [==============================] - 5s 3ms/step - loss: 0.4788 - accuracy: 0.8608 - val_loss: 0.1817 - val_accuracy: 0.9453\n",
            "Epoch 2/100\n",
            "1500/1500 [==============================] - 5s 3ms/step - loss: 0.2778 - accuracy: 0.9202 - val_loss: 0.1516 - val_accuracy: 0.9552\n",
            "Epoch 3/100\n",
            "1500/1500 [==============================] - 4s 3ms/step - loss: 0.2400 - accuracy: 0.9303 - val_loss: 0.1361 - val_accuracy: 0.9582\n",
            "Epoch 4/100\n",
            "1500/1500 [==============================] - 3s 2ms/step - loss: 0.2132 - accuracy: 0.9377 - val_loss: 0.1260 - val_accuracy: 0.9618\n",
            "Epoch 5/100\n",
            "1500/1500 [==============================] - 3s 2ms/step - loss: 0.1900 - accuracy: 0.9427 - val_loss: 0.1216 - val_accuracy: 0.9639\n",
            "Epoch 6/100\n",
            "1500/1500 [==============================] - 4s 3ms/step - loss: 0.1773 - accuracy: 0.9469 - val_loss: 0.1123 - val_accuracy: 0.9659\n",
            "Epoch 7/100\n",
            "1500/1500 [==============================] - 4s 3ms/step - loss: 0.1647 - accuracy: 0.9506 - val_loss: 0.1132 - val_accuracy: 0.9678\n",
            "Epoch 8/100\n",
            "1500/1500 [==============================] - 5s 3ms/step - loss: 0.1532 - accuracy: 0.9549 - val_loss: 0.1154 - val_accuracy: 0.9665\n",
            "Epoch 9/100\n",
            "1500/1500 [==============================] - 5s 3ms/step - loss: 0.1479 - accuracy: 0.9558 - val_loss: 0.1111 - val_accuracy: 0.9684\n",
            "Epoch 10/100\n",
            "1500/1500 [==============================] - 5s 3ms/step - loss: 0.1422 - accuracy: 0.9573 - val_loss: 0.1096 - val_accuracy: 0.9675\n",
            "Epoch 11/100\n",
            "1500/1500 [==============================] - 4s 2ms/step - loss: 0.1378 - accuracy: 0.9588 - val_loss: 0.1028 - val_accuracy: 0.9720\n",
            "Epoch 12/100\n",
            "1500/1500 [==============================] - 4s 3ms/step - loss: 0.1317 - accuracy: 0.9600 - val_loss: 0.1081 - val_accuracy: 0.9692\n",
            "Epoch 13/100\n",
            "1500/1500 [==============================] - 3s 2ms/step - loss: 0.1242 - accuracy: 0.9622 - val_loss: 0.1002 - val_accuracy: 0.9724\n",
            "Epoch 14/100\n",
            "1500/1500 [==============================] - 4s 3ms/step - loss: 0.1219 - accuracy: 0.9635 - val_loss: 0.1048 - val_accuracy: 0.9718\n",
            "Epoch 15/100\n",
            "1500/1500 [==============================] - 6s 4ms/step - loss: 0.1218 - accuracy: 0.9633 - val_loss: 0.1039 - val_accuracy: 0.9723\n",
            "Epoch 16/100\n",
            "1500/1500 [==============================] - 4s 2ms/step - loss: 0.1126 - accuracy: 0.9659 - val_loss: 0.1040 - val_accuracy: 0.9705\n",
            "Epoch 17/100\n",
            "1500/1500 [==============================] - 5s 3ms/step - loss: 0.1153 - accuracy: 0.9666 - val_loss: 0.1045 - val_accuracy: 0.9705\n",
            "Epoch 18/100\n",
            "1500/1500 [==============================] - 4s 3ms/step - loss: 0.1100 - accuracy: 0.9675 - val_loss: 0.1022 - val_accuracy: 0.9717\n",
            "Epoch 19/100\n",
            "1500/1500 [==============================] - 5s 3ms/step - loss: 0.1166 - accuracy: 0.9660 - val_loss: 0.1022 - val_accuracy: 0.9731\n",
            "Epoch 20/100\n",
            "1500/1500 [==============================] - 6s 4ms/step - loss: 0.1034 - accuracy: 0.9689 - val_loss: 0.1060 - val_accuracy: 0.9724\n",
            "Epoch 21/100\n",
            "1500/1500 [==============================] - 3s 2ms/step - loss: 0.1033 - accuracy: 0.9696 - val_loss: 0.1089 - val_accuracy: 0.9723\n",
            "Epoch 22/100\n",
            "1500/1500 [==============================] - 4s 2ms/step - loss: 0.1015 - accuracy: 0.9697 - val_loss: 0.1033 - val_accuracy: 0.9730\n",
            "Epoch 23/100\n",
            "1500/1500 [==============================] - 5s 3ms/step - loss: 0.1039 - accuracy: 0.9689 - val_loss: 0.1090 - val_accuracy: 0.9727\n",
            "Epoch 24/100\n",
            "1500/1500 [==============================] - 4s 3ms/step - loss: 0.0988 - accuracy: 0.9706 - val_loss: 0.0993 - val_accuracy: 0.9737\n",
            "Epoch 25/100\n",
            "1500/1500 [==============================] - 4s 2ms/step - loss: 0.0984 - accuracy: 0.9708 - val_loss: 0.0994 - val_accuracy: 0.9734\n",
            "Epoch 26/100\n",
            "1500/1500 [==============================] - 4s 3ms/step - loss: 0.0935 - accuracy: 0.9723 - val_loss: 0.0979 - val_accuracy: 0.9723\n",
            "Epoch 27/100\n",
            "1500/1500 [==============================] - 4s 2ms/step - loss: 0.0952 - accuracy: 0.9716 - val_loss: 0.1031 - val_accuracy: 0.9728\n",
            "Epoch 28/100\n",
            "1500/1500 [==============================] - 3s 2ms/step - loss: 0.0912 - accuracy: 0.9728 - val_loss: 0.1046 - val_accuracy: 0.9737\n",
            "Epoch 29/100\n",
            "1500/1500 [==============================] - 4s 3ms/step - loss: 0.0917 - accuracy: 0.9730 - val_loss: 0.1034 - val_accuracy: 0.9723\n",
            "Epoch 30/100\n",
            "1500/1500 [==============================] - 4s 3ms/step - loss: 0.0862 - accuracy: 0.9739 - val_loss: 0.1119 - val_accuracy: 0.9730\n",
            "Epoch 31/100\n",
            "1500/1500 [==============================] - 7s 5ms/step - loss: 0.0916 - accuracy: 0.9730 - val_loss: 0.1048 - val_accuracy: 0.9728\n",
            "Epoch 32/100\n",
            "1500/1500 [==============================] - 4s 3ms/step - loss: 0.0909 - accuracy: 0.9735 - val_loss: 0.1010 - val_accuracy: 0.9746\n",
            "Epoch 33/100\n",
            "1500/1500 [==============================] - 3s 2ms/step - loss: 0.0926 - accuracy: 0.9729 - val_loss: 0.1046 - val_accuracy: 0.9728\n",
            "Epoch 34/100\n",
            "1500/1500 [==============================] - 4s 3ms/step - loss: 0.0891 - accuracy: 0.9737 - val_loss: 0.0976 - val_accuracy: 0.9726\n",
            "Epoch 35/100\n",
            "1500/1500 [==============================] - 5s 3ms/step - loss: 0.0832 - accuracy: 0.9749 - val_loss: 0.0970 - val_accuracy: 0.9748\n",
            "Epoch 36/100\n",
            "1500/1500 [==============================] - 4s 3ms/step - loss: 0.0843 - accuracy: 0.9748 - val_loss: 0.1005 - val_accuracy: 0.9726\n",
            "Epoch 37/100\n",
            "1500/1500 [==============================] - 4s 3ms/step - loss: 0.0844 - accuracy: 0.9751 - val_loss: 0.1031 - val_accuracy: 0.9722\n",
            "Epoch 38/100\n",
            "1500/1500 [==============================] - 4s 3ms/step - loss: 0.0827 - accuracy: 0.9756 - val_loss: 0.1038 - val_accuracy: 0.9727\n",
            "Epoch 39/100\n",
            "1500/1500 [==============================] - 4s 2ms/step - loss: 0.0812 - accuracy: 0.9762 - val_loss: 0.0977 - val_accuracy: 0.9740\n",
            "Epoch 40/100\n",
            "1500/1500 [==============================] - 5s 4ms/step - loss: 0.0802 - accuracy: 0.9754 - val_loss: 0.1050 - val_accuracy: 0.9731\n",
            "Epoch 41/100\n",
            "1500/1500 [==============================] - 4s 3ms/step - loss: 0.0844 - accuracy: 0.9756 - val_loss: 0.1046 - val_accuracy: 0.9723\n",
            "Epoch 42/100\n",
            "1500/1500 [==============================] - 5s 3ms/step - loss: 0.0789 - accuracy: 0.9771 - val_loss: 0.0991 - val_accuracy: 0.9748\n",
            "Epoch 43/100\n",
            "1500/1500 [==============================] - 3s 2ms/step - loss: 0.0780 - accuracy: 0.9763 - val_loss: 0.0989 - val_accuracy: 0.9743\n",
            "Epoch 44/100\n",
            "1500/1500 [==============================] - 4s 2ms/step - loss: 0.0778 - accuracy: 0.9765 - val_loss: 0.0972 - val_accuracy: 0.9747\n",
            "Epoch 45/100\n",
            "1500/1500 [==============================] - 5s 3ms/step - loss: 0.0818 - accuracy: 0.9762 - val_loss: 0.1039 - val_accuracy: 0.9751\n",
            "Epoch 46/100\n",
            "1500/1500 [==============================] - 4s 2ms/step - loss: 0.0760 - accuracy: 0.9781 - val_loss: 0.1050 - val_accuracy: 0.9743\n",
            "Epoch 47/100\n",
            "1500/1500 [==============================] - 4s 2ms/step - loss: 0.0783 - accuracy: 0.9766 - val_loss: 0.1105 - val_accuracy: 0.9732\n",
            "Epoch 48/100\n",
            "1500/1500 [==============================] - 4s 3ms/step - loss: 0.0787 - accuracy: 0.9779 - val_loss: 0.1077 - val_accuracy: 0.9737\n",
            "Epoch 49/100\n",
            "1500/1500 [==============================] - 4s 3ms/step - loss: 0.0741 - accuracy: 0.9782 - val_loss: 0.1088 - val_accuracy: 0.9743\n",
            "Epoch 50/100\n",
            "1500/1500 [==============================] - 4s 3ms/step - loss: 0.0779 - accuracy: 0.9776 - val_loss: 0.1038 - val_accuracy: 0.9734\n",
            "Epoch 51/100\n",
            "1500/1500 [==============================] - 4s 3ms/step - loss: 0.0756 - accuracy: 0.9774 - val_loss: 0.1050 - val_accuracy: 0.9749\n",
            "Epoch 52/100\n",
            "1500/1500 [==============================] - 4s 2ms/step - loss: 0.0713 - accuracy: 0.9787 - val_loss: 0.1055 - val_accuracy: 0.9733\n",
            "Epoch 53/100\n",
            "1500/1500 [==============================] - 3s 2ms/step - loss: 0.0755 - accuracy: 0.9774 - val_loss: 0.1062 - val_accuracy: 0.9734\n",
            "Epoch 54/100\n",
            "1500/1500 [==============================] - 4s 3ms/step - loss: 0.0750 - accuracy: 0.9787 - val_loss: 0.1020 - val_accuracy: 0.9746\n",
            "Epoch 55/100\n",
            "1500/1500 [==============================] - 4s 3ms/step - loss: 0.0710 - accuracy: 0.9781 - val_loss: 0.1028 - val_accuracy: 0.9734\n",
            "Epoch 56/100\n",
            "1500/1500 [==============================] - 3s 2ms/step - loss: 0.0730 - accuracy: 0.9778 - val_loss: 0.1006 - val_accuracy: 0.9743\n",
            "Epoch 57/100\n",
            "1500/1500 [==============================] - 4s 3ms/step - loss: 0.0747 - accuracy: 0.9772 - val_loss: 0.1041 - val_accuracy: 0.9753\n",
            "Epoch 58/100\n",
            "1500/1500 [==============================] - 4s 3ms/step - loss: 0.0704 - accuracy: 0.9789 - val_loss: 0.1024 - val_accuracy: 0.9747\n",
            "Epoch 59/100\n",
            "1500/1500 [==============================] - 4s 2ms/step - loss: 0.0720 - accuracy: 0.9793 - val_loss: 0.1069 - val_accuracy: 0.9747\n",
            "Epoch 60/100\n",
            "1500/1500 [==============================] - 3s 2ms/step - loss: 0.0660 - accuracy: 0.9799 - val_loss: 0.1104 - val_accuracy: 0.9750\n",
            "Epoch 61/100\n",
            "1500/1500 [==============================] - 4s 3ms/step - loss: 0.0739 - accuracy: 0.9790 - val_loss: 0.1092 - val_accuracy: 0.9738\n",
            "Epoch 62/100\n",
            "1500/1500 [==============================] - 4s 2ms/step - loss: 0.0727 - accuracy: 0.9779 - val_loss: 0.1160 - val_accuracy: 0.9728\n",
            "Epoch 63/100\n",
            "1500/1500 [==============================] - 4s 2ms/step - loss: 0.0705 - accuracy: 0.9796 - val_loss: 0.1170 - val_accuracy: 0.9730\n",
            "Epoch 64/100\n",
            "1500/1500 [==============================] - 5s 3ms/step - loss: 0.0691 - accuracy: 0.9798 - val_loss: 0.1137 - val_accuracy: 0.9737\n",
            "Epoch 65/100\n",
            "1500/1500 [==============================] - 4s 2ms/step - loss: 0.0733 - accuracy: 0.9789 - val_loss: 0.1175 - val_accuracy: 0.9739\n",
            "Epoch 66/100\n",
            "1500/1500 [==============================] - 3s 2ms/step - loss: 0.0744 - accuracy: 0.9801 - val_loss: 0.1106 - val_accuracy: 0.9737\n",
            "Epoch 67/100\n",
            "1500/1500 [==============================] - 4s 3ms/step - loss: 0.0692 - accuracy: 0.9801 - val_loss: 0.1190 - val_accuracy: 0.9735\n",
            "Epoch 68/100\n",
            "1500/1500 [==============================] - 4s 2ms/step - loss: 0.0732 - accuracy: 0.9791 - val_loss: 0.1091 - val_accuracy: 0.9729\n",
            "Epoch 69/100\n",
            "1500/1500 [==============================] - 3s 2ms/step - loss: 0.0703 - accuracy: 0.9801 - val_loss: 0.1150 - val_accuracy: 0.9724\n",
            "Epoch 70/100\n",
            "1500/1500 [==============================] - 4s 3ms/step - loss: 0.0625 - accuracy: 0.9808 - val_loss: 0.1128 - val_accuracy: 0.9728\n",
            "Epoch 71/100\n",
            "1500/1500 [==============================] - 4s 2ms/step - loss: 0.0694 - accuracy: 0.9805 - val_loss: 0.1077 - val_accuracy: 0.9736\n",
            "Epoch 72/100\n",
            "1500/1500 [==============================] - 3s 2ms/step - loss: 0.0645 - accuracy: 0.9803 - val_loss: 0.1071 - val_accuracy: 0.9737\n",
            "Epoch 73/100\n",
            "1500/1500 [==============================] - 5s 3ms/step - loss: 0.0660 - accuracy: 0.9808 - val_loss: 0.1071 - val_accuracy: 0.9730\n",
            "Epoch 74/100\n",
            "1500/1500 [==============================] - 4s 2ms/step - loss: 0.0654 - accuracy: 0.9810 - val_loss: 0.1141 - val_accuracy: 0.9726\n",
            "Epoch 75/100\n",
            "1500/1500 [==============================] - 4s 2ms/step - loss: 0.0684 - accuracy: 0.9800 - val_loss: 0.1089 - val_accuracy: 0.9735\n",
            "Epoch 76/100\n",
            "1500/1500 [==============================] - 4s 3ms/step - loss: 0.0636 - accuracy: 0.9814 - val_loss: 0.1203 - val_accuracy: 0.9734\n",
            "Epoch 77/100\n",
            "1500/1500 [==============================] - 4s 2ms/step - loss: 0.0661 - accuracy: 0.9810 - val_loss: 0.1207 - val_accuracy: 0.9733\n",
            "Epoch 78/100\n",
            "1500/1500 [==============================] - 4s 2ms/step - loss: 0.0659 - accuracy: 0.9808 - val_loss: 0.1187 - val_accuracy: 0.9730\n",
            "Epoch 79/100\n",
            "1500/1500 [==============================] - 4s 3ms/step - loss: 0.0676 - accuracy: 0.9819 - val_loss: 0.1075 - val_accuracy: 0.9744\n",
            "Epoch 80/100\n",
            "1500/1500 [==============================] - 3s 2ms/step - loss: 0.0647 - accuracy: 0.9808 - val_loss: 0.1124 - val_accuracy: 0.9725\n",
            "Epoch 81/100\n",
            "1500/1500 [==============================] - 4s 2ms/step - loss: 0.0627 - accuracy: 0.9819 - val_loss: 0.1145 - val_accuracy: 0.9730\n",
            "Epoch 82/100\n",
            "1500/1500 [==============================] - 4s 2ms/step - loss: 0.0642 - accuracy: 0.9809 - val_loss: 0.1123 - val_accuracy: 0.9732\n",
            "Epoch 83/100\n",
            "1500/1500 [==============================] - 4s 2ms/step - loss: 0.0647 - accuracy: 0.9819 - val_loss: 0.1012 - val_accuracy: 0.9729\n",
            "Epoch 84/100\n",
            "1500/1500 [==============================] - 3s 2ms/step - loss: 0.0666 - accuracy: 0.9813 - val_loss: 0.1071 - val_accuracy: 0.9737\n",
            "Epoch 85/100\n",
            "1500/1500 [==============================] - 4s 2ms/step - loss: 0.0647 - accuracy: 0.9825 - val_loss: 0.1095 - val_accuracy: 0.9719\n",
            "Epoch 86/100\n",
            "1500/1500 [==============================] - 4s 3ms/step - loss: 0.0631 - accuracy: 0.9810 - val_loss: 0.1128 - val_accuracy: 0.9734\n",
            "Epoch 87/100\n",
            "1500/1500 [==============================] - 4s 3ms/step - loss: 0.0599 - accuracy: 0.9826 - val_loss: 0.1203 - val_accuracy: 0.9715\n",
            "Epoch 88/100\n",
            "1500/1500 [==============================] - 3s 2ms/step - loss: 0.0640 - accuracy: 0.9820 - val_loss: 0.1135 - val_accuracy: 0.9718\n",
            "Epoch 89/100\n",
            "1500/1500 [==============================] - 4s 3ms/step - loss: 0.0594 - accuracy: 0.9821 - val_loss: 0.1220 - val_accuracy: 0.9712\n",
            "Epoch 90/100\n",
            "1500/1500 [==============================] - 3s 2ms/step - loss: 0.0614 - accuracy: 0.9819 - val_loss: 0.1156 - val_accuracy: 0.9732\n",
            "Epoch 91/100\n",
            "1500/1500 [==============================] - 4s 2ms/step - loss: 0.0636 - accuracy: 0.9821 - val_loss: 0.1162 - val_accuracy: 0.9740\n",
            "Epoch 92/100\n",
            "1500/1500 [==============================] - 4s 3ms/step - loss: 0.0559 - accuracy: 0.9833 - val_loss: 0.1176 - val_accuracy: 0.9739\n",
            "Epoch 93/100\n",
            "1500/1500 [==============================] - 4s 3ms/step - loss: 0.0602 - accuracy: 0.9822 - val_loss: 0.1211 - val_accuracy: 0.9737\n",
            "Epoch 94/100\n",
            "1500/1500 [==============================] - 4s 2ms/step - loss: 0.0597 - accuracy: 0.9820 - val_loss: 0.1266 - val_accuracy: 0.9720\n",
            "Epoch 95/100\n",
            "1500/1500 [==============================] - 4s 3ms/step - loss: 0.0601 - accuracy: 0.9827 - val_loss: 0.1265 - val_accuracy: 0.9730\n",
            "Epoch 96/100\n",
            "1500/1500 [==============================] - 4s 2ms/step - loss: 0.0567 - accuracy: 0.9840 - val_loss: 0.1259 - val_accuracy: 0.9731\n",
            "Epoch 97/100\n",
            "1500/1500 [==============================] - 4s 3ms/step - loss: 0.0565 - accuracy: 0.9830 - val_loss: 0.1216 - val_accuracy: 0.9730\n",
            "Epoch 98/100\n",
            "1500/1500 [==============================] - 5s 3ms/step - loss: 0.0613 - accuracy: 0.9823 - val_loss: 0.1152 - val_accuracy: 0.9737\n",
            "Epoch 99/100\n",
            "1500/1500 [==============================] - 5s 3ms/step - loss: 0.0605 - accuracy: 0.9820 - val_loss: 0.1189 - val_accuracy: 0.9718\n",
            "Epoch 100/100\n",
            "1500/1500 [==============================] - 5s 3ms/step - loss: 0.0657 - accuracy: 0.9816 - val_loss: 0.1136 - val_accuracy: 0.9716\n"
          ]
        }
      ]
    },
    {
      "cell_type": "code",
      "source": [
        "# Saber como se llaman los keys para llamarlos en el grafico.\n",
        "print(history.history.keys())"
      ],
      "metadata": {
        "colab": {
          "base_uri": "https://localhost:8080/"
        },
        "id": "fCLiJfdiWSvX",
        "outputId": "bb6563d1-f4f7-4557-85c5-93566b583eef"
      },
      "execution_count": 38,
      "outputs": [
        {
          "output_type": "stream",
          "name": "stdout",
          "text": [
            "dict_keys(['loss', 'accuracy', 'val_loss', 'val_accuracy'])\n"
          ]
        }
      ]
    },
    {
      "cell_type": "code",
      "source": [
        "fig, ax = plt.subplots(figsize = (10,10))\n",
        "num_epoch = model_history.shape[0]\n",
        "ax.plot(np.arange(0, num_epoch), model_history['accuracy'],\n",
        "           label = 'Training Accuracy', lw = 3, color = 'blue')\n",
        "\n",
        "ax.plot(np.arange(0, num_epoch), model_history['val_accuracy'],\n",
        "           label = 'Validacion Acc', lw = 3, color = 'red')\n",
        "\n",
        "ax.legend()\n",
        "plt.show()\n",
        "\n",
        "loss, acc = model.evaluate(X_test, y_test, verbose = 0)\n",
        "print('Acc:', round(acc, 4))"
      ],
      "metadata": {
        "colab": {
          "base_uri": "https://localhost:8080/",
          "height": 848
        },
        "id": "qCZ-cVS2WR0T",
        "outputId": "e10828ef-fc4e-42e2-9d50-095eb4f9d925"
      },
      "execution_count": 39,
      "outputs": [
        {
          "output_type": "display_data",
          "data": {
            "text/plain": [
              "<Figure size 1000x1000 with 1 Axes>"
            ],
            "image/png": "[encoded data removed]"
          },
          "metadata": {}
        },
        {
          "output_type": "stream",
          "name": "stdout",
          "text": [
            "Acc: 0.9724\n"
          ]
        }
      ]
    },
    {
      "cell_type": "code",
      "source": [
        "# Vamos a repetir cambiando un par de aspectos para ver como cambia y si entrena mejor, menos capas y distintas.\n",
        "\n",
        "model = keras.Sequential([layers.Dense(200, activation = 'softmax', input_shape = [X_train.shape[1]]),\n",
        "                          layers.Dropout(0.2),\n",
        "                          layers.Dense(100, activation = 'relu'),\n",
        "                          layers.Dropout(0.2),\n",
        "                          layers.Dense(60, activation = 'relu'),\n",
        "                          layers.Dense(10, activation = 'softmax')])\n",
        "\n",
        "model.compile(loss='sparse_categorical_crossentropy',\n",
        "              optimizer='adam',\n",
        "              metrics=['accuracy'])\n",
        "\n",
        "print(model.summary())\n",
        "\n",
        "# Bajamos el número de epocas a 50\n",
        "history = model.fit(X_train, y_train,\n",
        "                   epochs = 40 , validation_split = 0.2)\n",
        "\n",
        "# Creamos un DF en el que se almacena las metricas del entrenamiento y luego creamos una columna 'epoch' para ir sabiendo las epocas - iteraciones\n",
        "model_history = pd.DataFrame(history.history)\n",
        "model_history['epoch'] = history.epoch\n"
      ],
      "metadata": {
        "colab": {
          "base_uri": "https://localhost:8080/"
        },
        "id": "mVM8I2kFi7kv",
        "outputId": "f6fb47a5-e009-4ea8-abf4-84cfdc28603e"
      },
      "execution_count": 40,
      "outputs": [
        {
          "output_type": "stream",
          "name": "stdout",
          "text": [
            "Model: \"sequential_9\"\n",
            "_________________________________________________________________\n",
            " Layer (type)                Output Shape              Param #   \n",
            "=================================================================\n",
            " dense_36 (Dense)            (None, 200)               157000    \n",
            "                                                                 \n",
            " dropout_18 (Dropout)        (None, 200)               0         \n",
            "                                                                 \n",
            " dense_37 (Dense)            (None, 100)               20100     \n",
            "                                                                 \n",
            " dropout_19 (Dropout)        (None, 100)               0         \n",
            "                                                                 \n",
            " dense_38 (Dense)            (None, 60)                6060      \n",
            "                                                                 \n",
            " dense_39 (Dense)            (None, 10)                610       \n",
            "                                                                 \n",
            "=================================================================\n",
            "Total params: 183,770\n",
            "Trainable params: 183,770\n",
            "Non-trainable params: 0\n",
            "_________________________________________________________________\n",
            "None\n",
            "Epoch 1/40\n",
            "1500/1500 [==============================] - 5s 3ms/step - loss: 0.5327 - accuracy: 0.8620 - val_loss: 0.1952 - val_accuracy: 0.9454\n",
            "Epoch 2/40\n",
            "1500/1500 [==============================] - 5s 4ms/step - loss: 0.2392 - accuracy: 0.9384 - val_loss: 0.1634 - val_accuracy: 0.9578\n",
            "Epoch 3/40\n",
            "1500/1500 [==============================] - 4s 3ms/step - loss: 0.1988 - accuracy: 0.9482 - val_loss: 0.1699 - val_accuracy: 0.9559\n",
            "Epoch 4/40\n",
            "1500/1500 [==============================] - 4s 3ms/step - loss: 0.1662 - accuracy: 0.9572 - val_loss: 0.1626 - val_accuracy: 0.9584\n",
            "Epoch 5/40\n",
            "1500/1500 [==============================] - 5s 3ms/step - loss: 0.1422 - accuracy: 0.9633 - val_loss: 0.1721 - val_accuracy: 0.9587\n",
            "Epoch 6/40\n",
            "1500/1500 [==============================] - 4s 3ms/step - loss: 0.1318 - accuracy: 0.9645 - val_loss: 0.1636 - val_accuracy: 0.9614\n",
            "Epoch 7/40\n",
            "1500/1500 [==============================] - 5s 3ms/step - loss: 0.1282 - accuracy: 0.9656 - val_loss: 0.1533 - val_accuracy: 0.9643\n",
            "Epoch 8/40\n",
            "1500/1500 [==============================] - 4s 3ms/step - loss: 0.1163 - accuracy: 0.9693 - val_loss: 0.1609 - val_accuracy: 0.9640\n",
            "Epoch 9/40\n",
            "1500/1500 [==============================] - 4s 3ms/step - loss: 0.1096 - accuracy: 0.9709 - val_loss: 0.1574 - val_accuracy: 0.9638\n",
            "Epoch 10/40\n",
            "1500/1500 [==============================] - 5s 3ms/step - loss: 0.1007 - accuracy: 0.9728 - val_loss: 0.1739 - val_accuracy: 0.9628\n",
            "Epoch 11/40\n",
            "1500/1500 [==============================] - 5s 3ms/step - loss: 0.0974 - accuracy: 0.9736 - val_loss: 0.1631 - val_accuracy: 0.9653\n",
            "Epoch 12/40\n",
            "1500/1500 [==============================] - 6s 4ms/step - loss: 0.0939 - accuracy: 0.9745 - val_loss: 0.1694 - val_accuracy: 0.9639\n",
            "Epoch 13/40\n",
            "1500/1500 [==============================] - 4s 3ms/step - loss: 0.0917 - accuracy: 0.9755 - val_loss: 0.1785 - val_accuracy: 0.9604\n",
            "Epoch 14/40\n",
            "1500/1500 [==============================] - 5s 3ms/step - loss: 0.0876 - accuracy: 0.9759 - val_loss: 0.1831 - val_accuracy: 0.9627\n",
            "Epoch 15/40\n",
            "1500/1500 [==============================] - 5s 3ms/step - loss: 0.0841 - accuracy: 0.9771 - val_loss: 0.1859 - val_accuracy: 0.9622\n",
            "Epoch 16/40\n",
            "1500/1500 [==============================] - 5s 3ms/step - loss: 0.0811 - accuracy: 0.9779 - val_loss: 0.1740 - val_accuracy: 0.9648\n",
            "Epoch 17/40\n",
            "1500/1500 [==============================] - 5s 4ms/step - loss: 0.0788 - accuracy: 0.9780 - val_loss: 0.1803 - val_accuracy: 0.9652\n",
            "Epoch 18/40\n",
            "1500/1500 [==============================] - 4s 3ms/step - loss: 0.0781 - accuracy: 0.9787 - val_loss: 0.1835 - val_accuracy: 0.9639\n",
            "Epoch 19/40\n",
            "1500/1500 [==============================] - 4s 3ms/step - loss: 0.0729 - accuracy: 0.9801 - val_loss: 0.1869 - val_accuracy: 0.9660\n",
            "Epoch 20/40\n",
            "1500/1500 [==============================] - 5s 4ms/step - loss: 0.0716 - accuracy: 0.9800 - val_loss: 0.1875 - val_accuracy: 0.9659\n",
            "Epoch 21/40\n",
            "1500/1500 [==============================] - 4s 3ms/step - loss: 0.0741 - accuracy: 0.9798 - val_loss: 0.1817 - val_accuracy: 0.9653\n",
            "Epoch 22/40\n",
            "1500/1500 [==============================] - 5s 4ms/step - loss: 0.0693 - accuracy: 0.9811 - val_loss: 0.1855 - val_accuracy: 0.9645\n",
            "Epoch 23/40\n",
            "1500/1500 [==============================] - 4s 3ms/step - loss: 0.0740 - accuracy: 0.9800 - val_loss: 0.1872 - val_accuracy: 0.9639\n",
            "Epoch 24/40\n",
            "1500/1500 [==============================] - 5s 3ms/step - loss: 0.0709 - accuracy: 0.9803 - val_loss: 0.1944 - val_accuracy: 0.9641\n",
            "Epoch 25/40\n",
            "1500/1500 [==============================] - 5s 3ms/step - loss: 0.0684 - accuracy: 0.9810 - val_loss: 0.2056 - val_accuracy: 0.9644\n",
            "Epoch 26/40\n",
            "1500/1500 [==============================] - 5s 3ms/step - loss: 0.0704 - accuracy: 0.9811 - val_loss: 0.2111 - val_accuracy: 0.9634\n",
            "Epoch 27/40\n",
            "1500/1500 [==============================] - 5s 4ms/step - loss: 0.0671 - accuracy: 0.9814 - val_loss: 0.2174 - val_accuracy: 0.9635\n",
            "Epoch 28/40\n",
            "1500/1500 [==============================] - 4s 3ms/step - loss: 0.0607 - accuracy: 0.9824 - val_loss: 0.2049 - val_accuracy: 0.9639\n",
            "Epoch 29/40\n",
            "1500/1500 [==============================] - 5s 3ms/step - loss: 0.0618 - accuracy: 0.9834 - val_loss: 0.2084 - val_accuracy: 0.9633\n",
            "Epoch 30/40\n",
            "1500/1500 [==============================] - 5s 3ms/step - loss: 0.0636 - accuracy: 0.9826 - val_loss: 0.2113 - val_accuracy: 0.9659\n",
            "Epoch 31/40\n",
            "1500/1500 [==============================] - 5s 3ms/step - loss: 0.0644 - accuracy: 0.9827 - val_loss: 0.1987 - val_accuracy: 0.9647\n",
            "Epoch 32/40\n",
            "1500/1500 [==============================] - 5s 4ms/step - loss: 0.0606 - accuracy: 0.9832 - val_loss: 0.2046 - val_accuracy: 0.9657\n",
            "Epoch 33/40\n",
            "1500/1500 [==============================] - 4s 3ms/step - loss: 0.0646 - accuracy: 0.9828 - val_loss: 0.1968 - val_accuracy: 0.9658\n",
            "Epoch 34/40\n",
            "1500/1500 [==============================] - 4s 3ms/step - loss: 0.0648 - accuracy: 0.9828 - val_loss: 0.2009 - val_accuracy: 0.9649\n",
            "Epoch 35/40\n",
            "1500/1500 [==============================] - 5s 3ms/step - loss: 0.0608 - accuracy: 0.9833 - val_loss: 0.2237 - val_accuracy: 0.9648\n",
            "Epoch 36/40\n",
            "1500/1500 [==============================] - 4s 3ms/step - loss: 0.0614 - accuracy: 0.9830 - val_loss: 0.2153 - val_accuracy: 0.9623\n",
            "Epoch 37/40\n",
            "1500/1500 [==============================] - 5s 4ms/step - loss: 0.0653 - accuracy: 0.9823 - val_loss: 0.2128 - val_accuracy: 0.9654\n",
            "Epoch 38/40\n",
            "1500/1500 [==============================] - 4s 3ms/step - loss: 0.0638 - accuracy: 0.9826 - val_loss: 0.2144 - val_accuracy: 0.9658\n",
            "Epoch 39/40\n",
            "1500/1500 [==============================] - 4s 3ms/step - loss: 0.0579 - accuracy: 0.9840 - val_loss: 0.2280 - val_accuracy: 0.9645\n",
            "Epoch 40/40\n",
            "1500/1500 [==============================] - 5s 3ms/step - loss: 0.0614 - accuracy: 0.9833 - val_loss: 0.2188 - val_accuracy: 0.9638\n"
          ]
        }
      ]
    },
    {
      "cell_type": "code",
      "source": [
        "fig, ax = plt.subplots(figsize = (5,5))\n",
        "num_epoch = model_history.shape[0]\n",
        "ax.plot(np.arange(0, num_epoch), model_history['accuracy'],\n",
        "           label = 'Training Accuracy', lw = 3, color = 'blue')\n",
        "\n",
        "ax.plot(np.arange(0, num_epoch), model_history['val_accuracy'],\n",
        "           label = 'Validacion Acc', lw = 3, color = 'red')\n",
        "\n",
        "ax.legend()\n",
        "plt.show()\n",
        "\n",
        "loss, acc = model.evaluate(X_test, y_test, verbose = 0)\n",
        "print('Acc:', round(acc, 4))"
      ],
      "metadata": {
        "colab": {
          "base_uri": "https://localhost:8080/",
          "height": 463
        },
        "id": "kdc6YiYpi7Jw",
        "outputId": "036822a4-1942-47ed-ea63-fd597f333c06"
      },
      "execution_count": 41,
      "outputs": [
        {
          "output_type": "display_data",
          "data": {
            "text/plain": [
              "<Figure size 500x500 with 1 Axes>"
            ],
            "image/png": "[encoded data removed]"
          },
          "metadata": {}
        },
        {
          "output_type": "stream",
          "name": "stdout",
          "text": [
            "Acc: 0.9649\n"
          ]
        }
      ]
    },
    {
      "cell_type": "markdown",
      "source": [
        "Parece que en este caso tras cambiar ALEATORIAMENTE para ver en prueba y error el accuracy que conseguimos es menor, entrena los datos de training consiguiendo un acc mejor más ráido pero a la hora de la validacion se ve como le afecta ese posible sobreentrenamiento y se obtiene 0.9649 frente al anterior 0.9724"
      ],
      "metadata": {
        "id": "XM0fQCQUmXtK"
      }
    }
  ]
}